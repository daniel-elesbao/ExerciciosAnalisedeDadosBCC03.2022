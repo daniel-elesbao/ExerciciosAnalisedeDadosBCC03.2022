{
  "nbformat": 4,
  "nbformat_minor": 0,
  "metadata": {
    "colab": {
      "provenance": [],
      "collapsed_sections": [],
      "include_colab_link": true
    },
    "kernelspec": {
      "name": "python3",
      "display_name": "Python 3"
    },
    "language_info": {
      "name": "python"
    }
  },
  "cells": [
    {
      "cell_type": "markdown",
      "metadata": {
        "id": "view-in-github",
        "colab_type": "text"
      },
      "source": [
        "<a href=\"https://colab.research.google.com/github/daniel-elesbao/BCC21DanielZamboni/blob/main/Tarefa10DanielZamboniElesbao.ipynb\" target=\"_parent\"><img src=\"https://colab.research.google.com/assets/colab-badge.svg\" alt=\"Open In Colab\"/></a>"
      ]
    },
    {
      "cell_type": "code",
      "execution_count": null,
      "metadata": {
        "id": "ZaB4ELWfHyNc"
      },
      "outputs": [],
      "source": [
        "#Daniel Zamboni Elesbão - RA: 11202230222\n",
        "\n",
        "#Tarefa 10 da disciplina Bases Computacionais da ciência"
      ]
    },
    {
      "cell_type": "code",
      "source": [
        "#Cálculo do percentual de vitórias do mandante no Campeonato Brasileiro de 2018\n",
        "import pandas as pd #importa a biblioteca pandas como pd\n",
        "brasileirao = pd.read_csv('https://raw.githubusercontent.com/BMClab/BasesComputacionais/master/dados/tabelaBrasileirao2018.csv')#Lê o CSV fornecido pelo exercício\n",
        "vitman = 0 #Define a variável vitman para contar a quantidade de vitórias do mandante\n",
        "for mandante, visitante in zip(brasileirao['Placar do Mandante'],brasileirao['Placar do Visitante']): #itera o CSV buscando o Placar do Mandante e do Visitante\n",
        "  if mandante > visitante: #Verifica se o Placar do Mandante é Maior que o do visitante\n",
        "    vitman = vitman+1 #Se verdadeiro adiciona um à contagem de vitórias do mandante\n",
        "percm = vitman/len(brasileirao)*100 #Calcula o percentual de vitórias do mandante pelo número de jogos\n",
        "print (f\"O percentual de vitórias do mandante no Campeonato Brasileiro de 2018 foi {percm:.2f}%\") #imprime o primeiro resultado\n",
        "percve = 100-percm #Calcula o percentual dos outros resultados\n",
        "print (f\"O percentual de vitórias do mandante no Campeonato Brasileiro de 2018 foi {percve:.2f}%\") #imprime o segundo resultado"
      ],
      "metadata": {
        "colab": {
          "base_uri": "https://localhost:8080/"
        },
        "id": "sS1I5Fo-D4sC",
        "outputId": "8432c7cb-b5dc-402a-8be0-3038d5af0d63"
      },
      "execution_count": null,
      "outputs": [
        {
          "output_type": "stream",
          "name": "stdout",
          "text": [
            "O percentual de vitórias do mandante no Campeonato Brasileiro de 2018 foi 53.16%\n",
            "O percentual de vitórias do mandante no Campeonato Brasileiro de 2018 foi 46.84%\n"
          ]
        }
      ]
    },
    {
      "cell_type": "code",
      "source": [
        "#Gráfico da taxa de inflação mensal (IGP-DI) no Brasil de fevereiro de 1944 a junho de 2019 (dados disponibilizados por Ipeadata).\n",
        "import pandas as pd #importa a biblioteca pandas como pd\n",
        "import numpy as np #importa a biblioteca numpy como np\n",
        "import matplotlib.pyplot as plt #importa a biblioteca mathplotlib como plt\n",
        "igpdi = pd.read_csv('https://raw.githubusercontent.com/BMClab/BasesComputacionais/master/dados/inflacaoMensal.csv') #importa os dados do csv informado no exercício\n",
        "igpdi['Índice'] = igpdi.index #cria uma coluna com os índices para facilitar a localização de uma linha\n",
        "data = pd.date_range(\"2/1/1944\", \"6/1/2019\", periods=905) #Define o período para o eixo x entre fevereiro de 1944 e junho de 2019 com 905 meses\n",
        "taxmax = np.max(igpdi['Inflação']) #Cria a variável taxmax com o valor máximo de taxa de inflação\n",
        "indexmax = igpdi.loc[igpdi['Inflação'] == taxmax, 'Índice'] #localiza a linha onde ocorreu a taxa máxima\n",
        "plt.figure() #executa função que desenha o gráfico\n",
        "plt.title('Índices de inflação no Brasil por ano')#Título do Gráfico\n",
        "plt.plot (data,igpdi['Inflação']) #cria o gráfico de Inflação Mensal.\n",
        "plt.plot(data[indexmax], taxmax, marker='.', color='red') #coloca o ponto no mês que a inflação foi a máxima\n",
        "plt.annotate('Recorde Histórico',(data[indexmax], taxmax), xytext=(data[indexmax-500],80), \n",
        "  arrowprops=dict(facecolor='red')) # insere uma anotação no gráfico indicando o ponto onde a inflação foi máxima.\n",
        "plt.xlabel('Anos') #define o significado do eixo x como Anos\n",
        "plt.ylabel('Inflação em %') #define o significado do eixo y como Inflação em %\n",
        "plt.show() #exibe o gráfico"
      ],
      "metadata": {
        "colab": {
          "base_uri": "https://localhost:8080/",
          "height": 297
        },
        "id": "OQ025njVNBoM",
        "outputId": "58de513e-8894-4459-d4e0-97724118877c"
      },
      "execution_count": null,
      "outputs": [
        {
          "output_type": "display_data",
          "data": {
            "text/plain": [
              "<Figure size 432x288 with 1 Axes>"
            ],
            "image/png": "[encoded data removed]"
          },
          "metadata": {
            "needs_background": "light"
          }
        }
      ]
    },
    {
      "cell_type": "code",
      "source": [
        "#Mostra dos programas mais vistos e as datas de visualização\n",
        "import pandas as pd #importa a biblioteca pandas como pd\n",
        "import numpy as np #importa a biblioteca numpy como np\n",
        "data = pd.read_csv('https://raw.githubusercontent.com/BMClab/BasesComputacionais/master/dados/netflix.csv') #importa os dados do csv informado no exercício\n",
        "data['Categoria'] = 'Filme'  \n",
        "data['Categoria'][data['Title'].str.contains(\": Temporada|: Stranger|: Parte\")] = 'Série'  \n",
        "data['Programa'] = data['Title']  \n",
        "data[['Programa','Episódio']] = data[data['Categoria']=='Série']['Title'].str.split(pat = ': Temporada|: Stranger Things|: Parte', expand = True, n = 1)   \n",
        "data.loc[data['Categoria']=='Filme', 'Programa'] = data.loc[data['Categoria']=='Filme', 'Title']  \n",
        "data = data.drop(columns = 'Title') #bloco de código sugerido pelo exercício com o fim de quebrar o dataframe em colunas\n",
        "data['Date'] = pd.to_datetime(data['Date'], format = '%d/%m/%Y') #converte as strings contidas na coluna Date para o formato de data\n",
        "display ('10 programas mais vistos') #exibe a mensagem\n",
        "display (data['Programa'].value_counts().head(10)) #exibe os 10 programas com a maior contagem\n",
        "mesmais = data['Date'].dt.month.value_counts().head(1) #define a variável mesmais como o mês que mais apareceu nas contagens de visualizações\n",
        "if 1 in mesmais:\n",
        "  display ('O mês em que foram assistidos mais programas foi Janeiro')\n",
        "elif 2 in mesmais:\n",
        "  display ('O mês em que foram assistidos mais programas foi Fevereiro')\n",
        "elif 3 in mesmais:\n",
        "  display ('O mês em que foram assistidos mais programas foi Março')\n",
        "elif 4 in mesmais:\n",
        "  display ('O mês em que foram assistidos mais programas foi Abril')\n",
        "elif 5 in mesmais:\n",
        "  display ('O mês em que foram assistidos mais programas foi Maio')\n",
        "elif 6 in mesmais:\n",
        "  display ('O mês em que foram assistidos mais programas foi Junho')\n",
        "elif 7 in mesmais:\n",
        "  display ('O mês em que foram assistidos mais programas foi Julho')\n",
        "elif 8 in mesmais:\n",
        "  display ('O mês em que foram assistidos mais programas foi Agosto')\n",
        "elif 9 in mesmais:\n",
        "  display ('O mês em que foram assistidos mais programas foi Setembro')\n",
        "elif 10 in mesmais:\n",
        "  display ('O mês em que foram assistidos mais programas foi Outubro')\n",
        "elif 11 in mesmais:\n",
        "  display ('O mês em que foram assistidos mais programas foi Novembro')\n",
        "elif 12 in mesmais:\n",
        "  display ('O mês em que foram assistidos mais programas foi Dezembro') #conicionais que convertem o conteúdo \n",
        "  #da variável mesmais na mensagem especificando o mês que houve mais visualizações"
      ],
      "metadata": {
        "colab": {
          "base_uri": "https://localhost:8080/",
          "height": 245
        },
        "id": "zPj-5uRsa729",
        "outputId": "222e3006-a8cd-44ec-b16d-b0a9e8db7203"
      },
      "execution_count": 47,
      "outputs": [
        {
          "output_type": "display_data",
          "data": {
            "text/plain": [
              "'10 programas mais vistos'"
            ],
            "application/vnd.google.colaboratory.intrinsic+json": {
              "type": "string"
            }
          },
          "metadata": {}
        },
        {
          "output_type": "display_data",
          "data": {
            "text/plain": [
              "House of Cards                           73\n",
              "Jornada nas Estrelas: A nova geração     64\n",
              "Star Trek: Enterprise                    63\n",
              "Jornada nas Estrelas: Deep Space Nine    46\n",
              "Star Trek: Discovery                     42\n",
              "Jornada nas estrelas                     34\n",
              "The Crown                                32\n",
              "Cobra Kai                                30\n",
              "Aggretsuko                               28\n",
              "Downton Abbey                            25\n",
              "Name: Programa, dtype: int64"
            ]
          },
          "metadata": {}
        },
        {
          "output_type": "display_data",
          "data": {
            "text/plain": [
              "'O mês em que foram assistidos mais programas foi Novembro'"
            ],
            "application/vnd.google.colaboratory.intrinsic+json": {
              "type": "string"
            }
          },
          "metadata": {}
        }
      ]
    },
    {
      "cell_type": "code",
      "source": [
        "#Cálculo da renda média de cada estádio no Campeonato Brasileiro de 2018\n",
        "import pandas as pd #importa a biblioteca pandas como pd\n",
        "brasileirao = pd.read_csv('https://raw.githubusercontent.com/BMClab/BasesComputacionais/master/dados/tabelaBrasileirao2018.csv')#Lê o CSV fornecido pelo exercício\n",
        "pd.options.display.float_format = '{:.2f}'.format #formata a saída float para duas casas depois da vírgula\n",
        "display (brasileirao.groupby('Estádio')['Renda (R$)'].mean()) #exibe a média da renda agrupando por estádio"
      ],
      "metadata": {
        "colab": {
          "base_uri": "https://localhost:8080/",
          "height": 486
        },
        "id": "YkQ8IqJxg2zK",
        "outputId": "72b7d065-cece-4492-d84f-84b6668e9a00"
      },
      "execution_count": 3,
      "outputs": [
        {
          "output_type": "display_data",
          "data": {
            "text/plain": [
              "Estádio\n",
              "Allianz Parque, São Paulo                2184977.30\n",
              "Arena Condá, Chapecó                      256148.16\n",
              "Arena Corinthians, São Paulo             1335614.75\n",
              "Arena Fonte Nova, Salvador                391600.29\n",
              "Arena Pernambuco, São Lourenço da Mata    593910.00\n",
              "Arena da Baixada, Curitiba                266011.05\n",
              "Arena do Grêmio, Porto Alegre             760596.89\n",
              "Estádio Barradão, Salvador                 96398.37\n",
              "Estádio Beira-Rio, Porto Alegre           850073.66\n",
              "Estádio Castelão, Fortaleza               623102.71\n",
              "Estádio Engenhão, Rio de Janeiro          167022.74\n",
              "Estádio Ilha do Retiro, Recife            182628.61\n",
              "Estádio Indepedência, Belo Horizonte      113144.50\n",
              "Estádio Independência, Belo Horizonte     185470.32\n",
              "Estádio Mineirão, Belo Horizonte          325315.47\n",
              "Estádio Nacional, Brasília               2614730.00\n",
              "Estádio Presidente Vargas, Fortaleza      103040.80\n",
              "Estádio São Januário, Rio de Janeiro      242278.44\n",
              "Estádio Vila Belmiro, Santos              164668.08\n",
              "Estádio Vila Capanema, Curitiba           153496.39\n",
              "Estádio de Pituaçu, Salvador              297475.00\n",
              "Estádio do Café, Londrina                1953570.00\n",
              "Estádio do Maracanã, Rio de Janeiro       849158.13\n",
              "Estádio do Morumbi, São Paulo            1188518.74\n",
              "Estádio do Pacaembu, São Paulo            709281.14\n",
              "Name: Renda (R$), dtype: float64"
            ]
          },
          "metadata": {}
        }
      ]
    }
  ]
}