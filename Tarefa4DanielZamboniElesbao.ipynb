{
  "nbformat": 4,
  "nbformat_minor": 0,
  "metadata": {
    "colab": {
      "provenance": [],
      "collapsed_sections": [],
      "include_colab_link": true
    },
    "kernelspec": {
      "name": "python3",
      "display_name": "Python 3"
    },
    "language_info": {
      "name": "python"
    }
  },
  "cells": [
    {
      "cell_type": "markdown",
      "metadata": {
        "id": "view-in-github",
        "colab_type": "text"
      },
      "source": [
        "<a href=\"https://colab.research.google.com/github/daniel-elesbao/bcc-tarefas/blob/main/Tarefa4DanielZamboniElesbao.ipynb\" target=\"_parent\"><img src=\"https://colab.research.google.com/assets/colab-badge.svg\" alt=\"Open In Colab\"/></a>"
      ]
    },
    {
      "cell_type": "code",
      "execution_count": null,
      "metadata": {
        "id": "ZaB4ELWfHyNc"
      },
      "outputs": [],
      "source": [
        "Daniel Zamboni Elesbão - RA: 11202230222\n",
        "\n",
        "Tarefa 4 da disciplina Bases Computacionais da ciência"
      ]
    },
    {
      "cell_type": "code",
      "source": [
        "#Calcula O volume de uma esfera com raio contida em uma variável 'R'.\n",
        "import math #importa a biblioteca math\n",
        "r = 0.32 #define e atribui valor a variável r conforme dados do exercício\n",
        "volume = (4 / 3) * math.pi * (math.pow(r, 3)) #Calcula o volume da esfera de raio R e atribui à variável volume\n",
        "print (f\"O volume de uma esfera de raio {r:.2f} metros é:{volume:.5f} metros\") # Retorna o raio e o volume da esfera\n",
        "r = 1 #define e atribui valor a variável r conforme dados do exercício\n",
        "volume = (4 / 3) * math.pi * (math.pow(r, 3)) #Calcula o volume da esfera de raio R e atribui à variável volume\n",
        "print (f\"O volume de uma esfera de raio {r:.2f} metros é:{volume:.5f} metros\") # Retorna o raio e o volume da esfera\n",
        "r = 1.9 #define e atribui valor a variável r conforme dados do exercício\n",
        "volume = (4 / 3) * math.pi * (math.pow(r, 3)) #Calcula o volume da esfera de raio R e atribui à variável volume\n",
        "print (f\"O volume de uma esfera de raio {r:.2f} metros é:{volume:.5f} metros\") # Retorna o raio e o volume da esfera"
      ],
      "metadata": {
        "colab": {
          "base_uri": "https://localhost:8080/"
        },
        "id": "mbAwEmvEIJQV",
        "outputId": "0e087d03-5cb7-4fdc-c00d-5f6982a3096a"
      },
      "execution_count": 92,
      "outputs": [
        {
          "output_type": "stream",
          "name": "stdout",
          "text": [
            "O volume de uma esfera de raio 0.32 metros é:0.13726 metros\n",
            "O volume de uma esfera de raio 1.00 metros é:4.18879 metros\n",
            "O volume de uma esfera de raio 1.90 metros é:28.73091 metros\n"
          ]
        }
      ]
    },
    {
      "cell_type": "code",
      "source": [
        "#Calcula a temperatura em Fahrenheit dada a temperatura em Celsius contida em uma variavel Tc\n",
        "Tc = -10 #define e atribui valor em Celsius à variável Tc conforme dados do exercício\n",
        "Tf = (Tc*9/5)+32 #define a variável Tf e atribui à ela o valor convertido de Tc em Fahrenheit conforme fórmula de conversão\n",
        "print (f'{Tc:.0f}ºC correspondem a {Tf:.0f}º F') #Retorna o resultado\n",
        "Tc = 30 #define e atribui valor em Celsius à variável Tc conforme dados do exercício\n",
        "Tf = (Tc*9/5)+32 #define a variável Tf e atribui à ela o valor convertido de Tc em Fahrenheit conforme fórmula de conversão\n",
        "print (f'{Tc:.0f}ºC correspondem a {Tf:.0f}º F') #Retorna o resultado\n",
        "Tc = 5 #define e atribui valor em Celsius à variável Tc conforme dados do exercício\n",
        "Tf = (Tc*9/5)+32 #define a variável Tf e atribui à ela o valor convertido de Tc em Fahrenheit conforme fórmula de conversão\n",
        "print (f'{Tc:.0f}ºC correspondem a {Tf:.0f}º F') #Retorna o resultado"
      ],
      "metadata": {
        "id": "o6PQ3h0NOMEa",
        "colab": {
          "base_uri": "https://localhost:8080/"
        },
        "outputId": "25bbb6b7-6a2c-4eb1-9ef5-f30fbe355cf6"
      },
      "execution_count": 93,
      "outputs": [
        {
          "output_type": "stream",
          "name": "stdout",
          "text": [
            "-10ºC correspondem a 14º F\n",
            "30ºC correspondem a 86º F\n",
            "5ºC correspondem a 41º F\n"
          ]
        }
      ]
    },
    {
      "cell_type": "code",
      "source": [
        "#Calcula o tamanho do lado c de um triângulo com lados a,b e ângulo θ entre os lados a e b conhecidos.\n",
        "import math  #importa a biblioteca math\n",
        "a = 1; b = 2; θ = 30; #Define as variáveis a, b e θ, e atribui seus valores conformes dados do exercício\n",
        "c = math.sqrt (math.pow(a,2) + math.pow(b,2) - (2*a*b*math.cos(θ))) #Define a variável c e atribui o valor do lado calculado conforme a fórmula da lei dos cossenos\n",
        "print (f'O lado c de um triângulo de lados a = {a:.0f}, b = {b:.0f} e ângulo θ = {θ:.0f}º, é igual a: {c:.5f}') #Retorna o resultado\n",
        "a = 3; b = 1; θ = 45; #Define as variáveis a, b e θ, e atribui seus valores conformes dados do exercício\n",
        "c = math.sqrt (math.pow(a,2) + math.pow(b,2) - (2*a*b*math.cos(θ))) #Define a variável c e atribui o valor do lado calculado conforme a fórmula da lei dos cossenos\n",
        "print (f'O lado c de um triângulo de lados a = {a:.0f}, b = {b:.0f} e ângulo θ = {θ:.0f}º, é igual a: {c:.5f}') #Retorna o resultado\n",
        "a = 10; b = 11; θ = 15; #Define as variáveis a, b e θ, e atribui seus valores conformes dados do exercício\n",
        "c = math.sqrt (math.pow(a,2) + math.pow(b,2) - (2*a*b*math.cos(θ))) #Define a variável c e atribui o valor do lado calculado conforme a fórmula da lei dos cossenos\n",
        "print (f'O lado c de um triângulo de lados a = {a:.0f}, b = {b:.0f} e ângulo θ = {θ:.0f}º, é igual a: {c:.5f}') #Retorna o resultado"
      ],
      "metadata": {
        "colab": {
          "base_uri": "https://localhost:8080/"
        },
        "id": "6hT9ZcZlbRu6",
        "outputId": "7b23106b-1185-490c-c552-8a8048aa9183"
      },
      "execution_count": 89,
      "outputs": [
        {
          "output_type": "stream",
          "name": "stdout",
          "text": [
            "O lado c de um triângulo de lados a = 1, b = 2 e ângulo θ = 30º, é igual a: 2.09356\n",
            "O lado c de um triângulo de lados a = 3, b = 1 e ângulo θ = 45º, é igual a: 2.61688\n",
            "O lado c de um triângulo de lados a = 10, b = 11 e ângulo θ = 15º, é igual a: 19.70105\n"
          ]
        }
      ]
    },
    {
      "cell_type": "code",
      "source": [
        "#Calcula a série de Fibonacci e retorna o número i-nésimo\n",
        "import math\n",
        "i = 30 #Define a variável i e atribui seus valores conformes dados do exercício\n",
        "Fi = (math.pow((1+math.sqrt(5))/2,i)-math.pow((1-math.sqrt(5))/2,i))/math.sqrt(5) #Calcula Fi de acordo com a fórmula para achar o i-nésimo número na sequência de Fibonacci\n",
        "print (f'O {i:.0f} número na sequência de Fibonacci é {Fi:.0f}') #Retorna o resultado\n",
        "i = 31 #Define a variável i e atribui seus valores conformes dados do exercício\n",
        "Fi = (math.pow((1+math.sqrt(5))/2,i)-math.pow((1-math.sqrt(5))/2,i))/math.sqrt(5)\n",
        "print (f'O {i:.0f} número na sequência de Fibonacci é {Fi:.0f}') #Retorna o resultado\n",
        "i = 32 #Define a variável i e atribui seus valores conformes dados do exercício\n",
        "Fi = (math.pow((1+math.sqrt(5))/2,i)-math.pow((1-math.sqrt(5))/2,i))/math.sqrt(5)\n",
        "print (f'O {i:.0f} número na sequência de Fibonacci é {Fi:.0f}') #Retorna o resultado\n"
      ],
      "metadata": {
        "colab": {
          "base_uri": "https://localhost:8080/"
        },
        "id": "SvY7FgfjiGwU",
        "outputId": "1f9cfbe0-711b-43dc-c94d-590e2409d6cb"
      },
      "execution_count": 75,
      "outputs": [
        {
          "output_type": "stream",
          "name": "stdout",
          "text": [
            "O 30 número na sequência de Fibonacci é 832040\n",
            "O 31 número na sequência de Fibonacci é 1346269\n",
            "O 32 número na sequência de Fibonacci é 2178309\n"
          ]
        }
      ]
    },
    {
      "cell_type": "code",
      "source": [
        "#Calcula a série de Fibonacci\n",
        "i = 30\n",
        "Fi = 0\n",
        "Fs = 1\n",
        "for x in range(1,i):\n",
        "  penult = Fs\n",
        "  Fs = Fi + Fs\n",
        "  Fi = penult\n",
        "print (f'O {i:.0f} número na sequência de Fibonacci é {Fs:.0f}') #Retorna o resultado\n",
        "i = 31\n",
        "Fi = 0\n",
        "Fs = 1\n",
        "for x in range(1,i):\n",
        "  penult = Fs\n",
        "  Fs = Fi + Fs\n",
        "  Fi = penult\n",
        "print (f'O {i:.0f} número na sequência de Fibonacci é {Fs:.0f}') #Retorna o resultado\n",
        "i = 32\n",
        "Fi = 0\n",
        "Fs = 1\n",
        "for x in range(1,i):\n",
        "  penult = Fs\n",
        "  Fs = Fi + Fs\n",
        "  Fi = penult\n",
        "print (f'O {i:.0f} número na sequência de Fibonacci é {Fs:.0f}') #Retorna o resultado"
      ],
      "metadata": {
        "colab": {
          "base_uri": "https://localhost:8080/"
        },
        "id": "YjzmZBPNd52a",
        "outputId": "01a9c4f6-26e8-4e28-b176-7d95b0e72d4c"
      },
      "execution_count": 82,
      "outputs": [
        {
          "output_type": "stream",
          "name": "stdout",
          "text": [
            "O 30 número na sequência de Fibonacci é 832040\n",
            "O 31 número na sequência de Fibonacci é 1346269\n",
            "O 32 número na sequência de Fibonacci é 2178309\n"
          ]
        }
      ]
    }
  ]
}