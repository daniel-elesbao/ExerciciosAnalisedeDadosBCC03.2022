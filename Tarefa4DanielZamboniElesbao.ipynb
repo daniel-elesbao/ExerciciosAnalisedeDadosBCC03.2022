{
  "nbformat": 4,
  "nbformat_minor": 0,
  "metadata": {
    "colab": {
      "provenance": [],
      "authorship_tag": "ABX9TyP5MkdqXsG4xXC7++HkD6d1",
      "include_colab_link": true
    },
    "kernelspec": {
      "name": "python3",
      "display_name": "Python 3"
    },
    "language_info": {
      "name": "python"
    }
  },
  "cells": [
    {
      "cell_type": "markdown",
      "metadata": {
        "id": "view-in-github",
        "colab_type": "text"
      },
      "source": [
        "<a href=\"https://colab.research.google.com/github/daniel-elesbao/BCC21DanielZamboni/blob/main/Tarefa4DanielZamboniElesbao.ipynb\" target=\"_parent\"><img src=\"https://colab.research.google.com/assets/colab-badge.svg\" alt=\"Open In Colab\"/></a>"
      ]
    },
    {
      "cell_type": "code",
      "execution_count": null,
      "metadata": {
        "id": "ZaB4ELWfHyNc"
      },
      "outputs": [],
      "source": [
        "Daniel Zamboni Elesbão - RA: 11202230222\n",
        "\n",
        "Tarefa 4 da disciplina Bases Computacionais da ciência"
      ]
    },
    {
      "cell_type": "markdown",
      "source": [
        " {\n",
        "   \"cell_type\": \"markdown\",\n",
        "   \"metadata\": {\n",
        "    \"id\": \"bFlh-7uOrAQg\",\n",
        "    \"tags\": []\n",
        "   },\n",
        "   \"source\": [\n",
        "    \"**1)** O volume de uma esfera com raio contida em uma variável $R$. \\n\",\n",
        "    \"\\n\",\n",
        "    \"\\n\",\n",
        "    \"Teste para a) $R = 0,32 $ m, b) $R = 1$ m, c) $R = 1,9$ m.\"\n",
        "   ]\n",
        "  }"
      ],
      "metadata": {
        "id": "qufkXCLg-2d-"
      }
    },
    {
      "cell_type": "code",
      "source": [
        "#Calcula O volume de uma esfera com raio contida em uma variável 'R'.\n",
        "import numpy as np #importa a biblioteca numpy como np\n",
        "R = 0,32 #define r conforme dados do exercício\n",
        "pi = np.pi # define pi conforme a função numpy\n",
        "volume = (4 / 3) * pi * (np.power(R, 3)) #Calcula o volume da esfera de raio R e atribui à variável volume\n",
        "print (\"O volume de uma esfera de raio\",R,\"metros é:\",volume,\"metros\") # Retorna o raio e o volume da esfera\n",
        "R = 1 #define r conforme dados do exercício\n",
        "pi = np.pi # define pi conforme a função numpy\n",
        "volume = (4 / 3) * pi * (np.power(R, 3)) #Calcula o volume da esfera de raio R e atribui à variável volume\n",
        "print (\"O volume de uma esfera de raio\",R,\"metros é:\",volume,\"metros\") # Retorna o raio e o volume da esfera\n",
        "R = 1,9 #define r conforme dados do exercício\n",
        "pi = np.pi # define pi conforme a função numpy\n",
        "volume = (4 / 3) * pi * (np.power(R, 3)) #Calcula o volume da esfera de raio R e atribui à variável volume\n",
        "print (\"O volume de uma esfera de raio\",R,\"metros é:\",volume,\"metros\") # Retorna o raio e o volume da esfera"
      ],
      "metadata": {
        "colab": {
          "base_uri": "https://localhost:8080/"
        },
        "id": "mbAwEmvEIJQV",
        "outputId": "59dd42f2-3741-488a-f93f-e661a3d0d3d2"
      },
      "execution_count": null,
      "outputs": [
        {
          "output_type": "stream",
          "name": "stdout",
          "text": [
            "O volume de uma esfera de raio (0, 32) metros é: [     0.         137258.27743044] metros\n",
            "O volume de uma esfera de raio 1 metros é: 4.1887902047863905 metros\n",
            "O volume de uma esfera de raio (1, 9) metros é: [   4.1887902  3053.62805929] metros\n"
          ]
        }
      ]
    },
    {
      "cell_type": "code",
      "source": [
        "#Calcula a temperatura em Fahrenheit dada a temperatura em Celsius contida em uma variavel Tc\n",
        "Tc = -10\n"
      ],
      "metadata": {
        "id": "o6PQ3h0NOMEa"
      },
      "execution_count": null,
      "outputs": []
    }
  ]
}