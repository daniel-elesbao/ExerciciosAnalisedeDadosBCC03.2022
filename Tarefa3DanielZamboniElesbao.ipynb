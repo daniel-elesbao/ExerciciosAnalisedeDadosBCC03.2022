{
  "nbformat": 4,
  "nbformat_minor": 0,
  "metadata": {
    "colab": {
      "provenance": [],
      "authorship_tag": "ABX9TyMCC8bgCyhbCAEm8pOQLWG/",
      "include_colab_link": true
    },
    "kernelspec": {
      "name": "python3",
      "display_name": "Python 3"
    },
    "language_info": {
      "name": "python"
    }
  },
  "cells": [
    {
      "cell_type": "markdown",
      "metadata": {
        "id": "view-in-github",
        "colab_type": "text"
      },
      "source": [
        "<a href=\"https://colab.research.google.com/github/daniel-elesbao/bcc-tarefas/blob/main/Tarefa3DanielZamboniElesbao.ipynb\" target=\"_parent\"><img src=\"https://colab.research.google.com/assets/colab-badge.svg\" alt=\"Open In Colab\"/></a>"
      ]
    },
    {
      "cell_type": "markdown",
      "source": [
        "Daniel Zamboni Elesbão - RA: 11202230222"
      ],
      "metadata": {
        "id": "loGTxBj6EyC-"
      }
    },
    {
      "cell_type": "code",
      "source": [
        "h = 1.5 # Define a variável 'h' como a quantidade de horas de acordo com a tarefa\n",
        "s = h * 3600 #Define a variável 's' como sendo a quantidade de horas 'h' * 3600\n",
        "print(s) #imprime s\n",
        "\n",
        "h = 12 # Define a variável 'h' como a quantidade de horas de acordo com a tarefa\n",
        "s = h * 3600 #Define a variável 's' como sendo a quantidade de horas 'h' * 3600\n",
        "print(s) #imprime s\n",
        "\n",
        "h = 24 # Define a variável 'h' como a quantidade de horas de acordo com a tarefa\n",
        "s = h * 3600 #Define a variável 's' como sendo a quantidade de horas 'h' * 3600\n",
        "print(s) #imprime s"
      ],
      "metadata": {
        "colab": {
          "base_uri": "https://localhost:8080/"
        },
        "id": "V9nvqKVhE2Ac",
        "outputId": "9d831b9b-0e85-47b4-8972-38635c3fa16d"
      },
      "execution_count": 9,
      "outputs": [
        {
          "output_type": "stream",
          "name": "stdout",
          "text": [
            "5400.0\n",
            "43200\n",
            "86400\n"
          ]
        }
      ]
    }
  ]
}