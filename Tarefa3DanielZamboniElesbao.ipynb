{
  "nbformat": 4,
  "nbformat_minor": 0,
  "metadata": {
    "colab": {
      "provenance": [],
      "authorship_tag": "ABX9TyP3tNF2Zl8afFuP6JhdpGO0",
      "include_colab_link": true
    },
    "kernelspec": {
      "name": "python3",
      "display_name": "Python 3"
    },
    "language_info": {
      "name": "python"
    }
  },
  "cells": [
    {
      "cell_type": "markdown",
      "metadata": {
        "id": "view-in-github",
        "colab_type": "text"
      },
      "source": [
        "<a href=\"https://colab.research.google.com/github/daniel-elesbao/bcc-tarefas/blob/main/Tarefa3DanielZamboniElesbao.ipynb\" target=\"_parent\"><img src=\"https://colab.research.google.com/assets/colab-badge.svg\" alt=\"Open In Colab\"/></a>"
      ]
    },
    {
      "cell_type": "markdown",
      "source": [
        "Daniel Zamboni Elesbão - RA: 11202230222\n",
        "\n",
        "Tarefa 3 da disciplina Bases Computacionais da ciência com o fim de obter o número de segundos *s*, dado o número de horas contida em uma variável *h*."
      ],
      "metadata": {
        "id": "loGTxBj6EyC-"
      }
    },
    {
      "cell_type": "code",
      "source": [
        "h = 1.5 # Define a variável 'h' como a quantidade de horas de acordo com a tarefa\n",
        "s = h * 3600 #Define a variável 's' como sendo a quantidade de horas 'h' * 3600\n",
        "print(\"A quantidade de segundos em\",h,\"horas é:\",s) #imprime s\n",
        "\n",
        "h = 12 # Define a variável 'h' como a quantidade de horas de acordo com a tarefa\n",
        "s = h * 3600 #Define a variável 's' como sendo a quantidade de horas 'h' * 3600\n",
        "print(\"A quantidade de segundos em\",h,\"horas é:\",s) #imprime s\n",
        "\n",
        "h = 24 # Define a variável 'h' como a quantidade de horas de acordo com a tarefa\n",
        "s = h * 3600 #Define a variável 's' como sendo a quantidade de horas 'h' * 3600\n",
        "print(\"A quantidade de segundos em\",h,\"horas é:\",s) #imprime s"
      ],
      "metadata": {
        "colab": {
          "base_uri": "https://localhost:8080/"
        },
        "id": "V9nvqKVhE2Ac",
        "outputId": "e64b58d4-2811-422e-99f2-7c9fce3f7da8"
      },
      "execution_count": 5,
      "outputs": [
        {
          "output_type": "stream",
          "name": "stdout",
          "text": [
            "A quantidade de segundos em 1.5 horas é: 5400.0\n",
            "A quantidade de segundos em 12 horas é: 43200\n",
            "A quantidade de segundos em 24 horas é: 86400\n"
          ]
        }
      ]
    }
  ]
}