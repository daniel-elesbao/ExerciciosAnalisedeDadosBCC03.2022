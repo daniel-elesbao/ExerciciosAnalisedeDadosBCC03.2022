{
  "nbformat": 4,
  "nbformat_minor": 0,
  "metadata": {
    "colab": {
      "provenance": [],
      "include_colab_link": true
    },
    "kernelspec": {
      "name": "python3",
      "display_name": "Python 3"
    },
    "language_info": {
      "name": "python"
    }
  },
  "cells": [
    {
      "cell_type": "markdown",
      "metadata": {
        "id": "view-in-github",
        "colab_type": "text"
      },
      "source": [
        "<a href=\"https://colab.research.google.com/github/daniel-elesbao/ExerciciosAnalisedeDadosBCC03.2022/blob/main/Tarefa11.ipynb\" target=\"_parent\"><img src=\"https://colab.research.google.com/assets/colab-badge.svg\" alt=\"Open In Colab\"/></a>"
      ]
    },
    {
      "cell_type": "code",
      "execution_count": null,
      "metadata": {
        "id": "ZaB4ELWfHyNc"
      },
      "outputs": [],
      "source": [
        "#Daniel Zamboni Elesbão - RA: 11202230222\n",
        "\n",
        "#Tarefa 11 da disciplina Bases Computacionais da ciência"
      ]
    },
    {
      "cell_type": "markdown",
      "source": [
        "**1)** Faça a aproximação de $\\pi$ usando a fórmula de Leibniz:\n",
        "\n",
        "$$\n",
        "\\pi \\approx 4 - \\frac{4}{3} + \\frac{4}{5} - \\frac{4}{7} + \\frac{4}{9}+...$$\n",
        " \n",
        "Calcule (e mostre na tela) a aproximação de $\\pi$ considerando a) 50 termos, b) 500 termos, c) 1000 termos e d) 10000 termos.\n",
        "\n",
        "Dica: Note que o sinal do termo muda a cada termo. Talvez verificar se o $i$ é par ou ímpar ajude a decidir se para aquele i o sinal é mais ou menos."
      ],
      "metadata": {
        "id": "DQtl_ySNLoeA"
      }
    },
    {
      "cell_type": "code",
      "source": [
        "#Cálculo da aproximação de pi usando a fórmula de Leibniz\n",
        "termos = [50, 500, 1000, 10000] #define a array termos com o número de termos a serem calculados\n",
        "pi = 4 #define a variável pi com valor inicial 4\n",
        "for item in termos: #laço para realização do bloco de código para cada termo que for inserido na array\n",
        "  for l in range (0, item): #laço que realiza os cálculos de acordo com o termo sendo testado no momento\n",
        "    if l%2==0: #condição que estabelece que se o termo for par realiza uma subtração, se for ímpar realiza uma soma\n",
        "      pi = pi - (1 / (3 + 2 * l))\n",
        "    else:\n",
        "      pi = pi + (1 / (3 + 2 * l))\n",
        "  print (f'O valor de pi na aproximação de Leibniz para {item} termos é aproximadamente {pi}') #exibe o resultado formatado\n",
        "    "
      ],
      "metadata": {
        "colab": {
          "base_uri": "https://localhost:8080/"
        },
        "id": "sS1I5Fo-D4sC",
        "outputId": "e3deaef0-0256-437c-d89d-4c76c148f3be"
      },
      "execution_count": null,
      "outputs": [
        {
          "output_type": "stream",
          "name": "stdout",
          "text": [
            "O valor de pi na aproximação de Leibniz para 50 termos é aproximadamente 3.790299653246762\n",
            "O valor de pi na aproximação de Leibniz para 500 termos é aproximadamente 3.576196818143204\n",
            "O valor de pi na aproximação de Leibniz para 1000 termos é aproximadamente 3.3618447317280835\n",
            "O valor de pi na aproximação de Leibniz para 10000 termos é aproximadamente 3.147267892625712\n"
          ]
        }
      ]
    }
  ]
}