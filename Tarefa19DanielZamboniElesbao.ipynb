{
  "cells": [
    {
      "cell_type": "markdown",
      "metadata": {
        "id": "view-in-github",
        "colab_type": "text"
      },
      "source": [
        "<a href=\"https://colab.research.google.com/github/daniel-elesbao/BCC21DanielZamboni/blob/main/Tarefa19DanielZamboniElesbao.ipynb\" target=\"_parent\"><img src=\"https://colab.research.google.com/assets/colab-badge.svg\" alt=\"Open In Colab\"/></a>"
      ]
    },
    {
      "cell_type": "code",
      "execution_count": 9,
      "metadata": {
        "id": "ZaB4ELWfHyNc"
      },
      "outputs": [],
      "source": [
        "#Daniel Zamboni Elesbão - RA: 11202230222\n",
        "\n",
        "#Tarefa 19 da disciplina Bases Computacionais da ciência"
      ]
    },
    {
      "cell_type": "code",
      "execution_count": 30,
      "metadata": {
        "colab": {
          "base_uri": "https://localhost:8080/"
        },
        "id": "sS1I5Fo-D4sC",
        "outputId": "ec6beb87-6277-4d0d-f700-8885991ef701"
      },
      "outputs": [
        {
          "output_type": "stream",
          "name": "stdout",
          "text": [
            "O valor aproximado de pi calculado pelo método de Monte Carlo com 1000000 pontos foi 3.144204\n"
          ]
        }
      ],
      "source": [
        "#Calcula a aproximação de pi pelo método de Monte Carlo\n",
        "import numpy as np #importa a biblioteca numpy como np\n",
        "def monte_carlo ( n ): #define a função monte_carlo que recebe o valor n de pontos a serem gerados\n",
        "  acertos = 0\n",
        "  for pontos in range (1, n):\n",
        "    x = np.random.rand(1) #gera um número aleatório entre 0 e 1\n",
        "    y = np.random.rand(1)\n",
        "    if (x*x + y*y) < 1: #testa se o número é menor que 0.5\n",
        "      acertos += 1\n",
        "  print (f'O valor aproximado de pi calculado pelo método de Monte Carlo com {n} pontos foi {4*acertos/n}')\n",
        "monte_carlo( 1000000 ) \n",
        "\n"
      ]
    }
  ],
  "metadata": {
    "colab": {
      "provenance": [],
      "include_colab_link": true
    },
    "kernelspec": {
      "display_name": "Python 3",
      "name": "python3"
    },
    "language_info": {
      "name": "python"
    }
  },
  "nbformat": 4,
  "nbformat_minor": 0
}