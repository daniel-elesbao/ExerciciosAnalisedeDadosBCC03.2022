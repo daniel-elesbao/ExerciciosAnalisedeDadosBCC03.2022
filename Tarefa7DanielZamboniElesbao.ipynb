{
  "nbformat": 4,
  "nbformat_minor": 0,
  "metadata": {
    "colab": {
      "provenance": [],
      "collapsed_sections": [],
      "include_colab_link": true
    },
    "kernelspec": {
      "name": "python3",
      "display_name": "Python 3"
    },
    "language_info": {
      "name": "python"
    }
  },
  "cells": [
    {
      "cell_type": "markdown",
      "metadata": {
        "id": "view-in-github",
        "colab_type": "text"
      },
      "source": [
        "<a href=\"https://colab.research.google.com/github/daniel-elesbao/BCC21DanielZamboni/blob/main/Tarefa7DanielZamboniElesbao.ipynb\" target=\"_parent\"><img src=\"https://colab.research.google.com/assets/colab-badge.svg\" alt=\"Open In Colab\"/></a>"
      ]
    },
    {
      "cell_type": "code",
      "execution_count": null,
      "metadata": {
        "id": "ZaB4ELWfHyNc"
      },
      "outputs": [],
      "source": [
        "#Daniel Zamboni Elesbão - RA: 11202230222\n",
        "\n",
        "#Tarefa 7 da disciplina Bases Computacionais da ciência"
      ]
    },
    {
      "cell_type": "code",
      "source": [
        "#Mostra se um número inteiro guardado na variável x é par ou ímpar\n",
        "import numpy as np #importa a biblioteca numpy como np\n",
        "x = [ 1, 24, 10, 5 ] #Define a variável x como uma array com os dados a serem testados conforme pedido pelo exercício\n",
        "for number in x: #laço for que testará todos os itens da array x\n",
        "  if number%2==0: #teste lógico que define se dividindo o número testado dividido por 2 tem resto 0 (definição de número par)\n",
        "    print ('O número',number,'guardado na variável X é par') #exibe se o número testado for par\n",
        "  else:\n",
        "    print ('O número',number,'guardado na variável X é ímpar') # exibe o resultado se o número for ímpar\n"
      ],
      "metadata": {
        "colab": {
          "base_uri": "https://localhost:8080/"
        },
        "id": "sS1I5Fo-D4sC",
        "outputId": "1610a5a8-54e3-44bd-f2d7-476e2fc84281"
      },
      "execution_count": 8,
      "outputs": [
        {
          "output_type": "stream",
          "name": "stdout",
          "text": [
            "O número 1 guardado na variável X é ímpar\n",
            "O número 24 guardado na variável X é par\n",
            "O número 10 guardado na variável X é par\n",
            "O número 5 guardado na variável X é ímpar\n"
          ]
        }
      ]
    }
  ]
}