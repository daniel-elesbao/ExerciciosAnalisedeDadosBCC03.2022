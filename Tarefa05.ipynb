{
  "nbformat": 4,
  "nbformat_minor": 0,
  "metadata": {
    "colab": {
      "provenance": [],
      "include_colab_link": true
    },
    "kernelspec": {
      "name": "python3",
      "display_name": "Python 3"
    },
    "language_info": {
      "name": "python"
    }
  },
  "cells": [
    {
      "cell_type": "markdown",
      "metadata": {
        "id": "view-in-github",
        "colab_type": "text"
      },
      "source": [
        "<a href=\"https://colab.research.google.com/github/daniel-elesbao/BCC21DanielZamboni/blob/main/Tarefa5DanielZamboniElesbao.ipynb\" target=\"_parent\"><img src=\"https://colab.research.google.com/assets/colab-badge.svg\" alt=\"Open In Colab\"/></a>"
      ]
    },
    {
      "cell_type": "code",
      "execution_count": null,
      "metadata": {
        "id": "ZaB4ELWfHyNc"
      },
      "outputs": [],
      "source": [
        "Daniel Zamboni Elesbão - RA: 11202230222\n",
        "\n",
        "Tarefa 5 da disciplina Bases Computacionais da ciência"
      ]
    },
    {
      "cell_type": "markdown",
      "source": [
        "**1)** Uma bola é lançada ao ar. Suponha que sua altura $h(t)$, em metros, t segundos após o lançamento, seja:\n",
        "\n",
        "$$h(t) = −t^2 + 4t$$\n",
        "      a) Faça o gráfico da altura em função do tempo. Não se esqueça de indicar o significado de cada eixo, colocando a unidade da altura e do tempo. \n",
        "      b) Calcule a altura máxima atingida pela bola.\n",
        "      Sugestão: fazer o gráfico com o tempo entre 0 s e 5 s com incrementos de 0.1 s."
      ],
      "metadata": {
        "id": "hCfEE_JZDIIk"
      }
    },
    {
      "cell_type": "code",
      "source": [
        "#Calcula gráfico da altura em função do tempo, colocando a unidade da altura e do tempo e calcula a altura máxima atingida pela bola.\n",
        "import numpy as np #importa a biblioteca math\n",
        "import matplotlib.pyplot as plt #importa a biblioteca mathplotlib como plt\n",
        "t = np.linspace(0, 5, 50) #define t como o intervalo entre 0 e 5 a cada 0.1 segundos\n",
        "h = -t**2 + 4*t #fórmula da altura\n",
        "plt.figure()\n",
        "plt.plot(t, h) #cria o gráfico de h em função de t\n",
        "plt.xlabel('tempo (s)') #define o significado do eixo x como tempo em segundos\n",
        "plt.ylabel('altura (m)') #define o significado do eixo y como altura em metros\n",
        "plt.show() #exibe o gráfico\n",
        "maior = max(h) #define a variável maior como o máximo valor atingido pela variável h (altura)\n",
        "print (f'A altura máxima atingida pela bola foi: {maior:.0f} metros') #imprime a altura máxima atingida pela bola"
      ],
      "metadata": {
        "colab": {
          "base_uri": "https://localhost:8080/",
          "height": 296
        },
        "id": "mbAwEmvEIJQV",
        "outputId": "2bb290fb-b48d-4a5e-eb2d-2864329b7764"
      },
      "execution_count": null,
      "outputs": [
        {
          "output_type": "display_data",
          "data": {
            "text/plain": [
              "<Figure size 432x288 with 1 Axes>"
            ],
            "image/png": "[encoded data removed]"
          },
          "metadata": {
            "needs_background": "light"
          }
        },
        {
          "output_type": "stream",
          "name": "stdout",
          "text": [
            "A altura máxima atingida pela bola foi: 4 metros\n"
          ]
        }
      ]
    }
  ]
}
