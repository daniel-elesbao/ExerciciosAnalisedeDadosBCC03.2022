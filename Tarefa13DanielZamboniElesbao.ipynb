{
  "nbformat": 4,
  "nbformat_minor": 0,
  "metadata": {
    "colab": {
      "provenance": [],
      "include_colab_link": true
    },
    "kernelspec": {
      "name": "python3",
      "display_name": "Python 3"
    },
    "language_info": {
      "name": "python"
    }
  },
  "cells": [
    {
      "cell_type": "markdown",
      "metadata": {
        "id": "view-in-github",
        "colab_type": "text"
      },
      "source": [
        "<a href=\"https://colab.research.google.com/github/daniel-elesbao/BCC21DanielZamboni/blob/main/Tarefa13DanielZamboniElesbao.ipynb\" target=\"_parent\"><img src=\"https://colab.research.google.com/assets/colab-badge.svg\" alt=\"Open In Colab\"/></a>"
      ]
    },
    {
      "cell_type": "code",
      "execution_count": null,
      "metadata": {
        "id": "ZaB4ELWfHyNc"
      },
      "outputs": [],
      "source": [
        "#Daniel Zamboni Elesbão - RA: 11202230222\n",
        "\n",
        "#Tarefa 13 da disciplina Bases Computacionais da ciência"
      ]
    },
    {
      "cell_type": "code",
      "source": [
        "#Estatísticas de um time no Campeonato Brasileiro de 2018.\n",
        "import matplotlib.pyplot as plt #importa a biblioteca mathplotlib como plt\n",
        "import pandas as pd #importa a biblioteca pandas como pd\n",
        "brasileirao = pd.read_csv('https://raw.githubusercontent.com/BMClab/BasesComputacionais/master/dados/tabelaBrasileirao2018.csv')#Lê o CSV fornecido pelo exercício\n",
        "plt.figure() #executa função que desenha o gráfico\n",
        "plt.title('Público em jogos do Santos como mandante')#Título do Gráfico\n",
        "brasileirao.query(\"Mandante == 'Santos'\")['Público'].hist() #cria o histograma de distribuições de jogos por quantidade de público\n",
        "plt.xlabel ('Público') #Cria uma legenda para o eixo x\n",
        "plt.show() #exibe o gráfico\n",
        "santos = brasileirao.query(\"Mandante == 'Santos'\")['Público'].mean() #calcula a média de público dos jogos do Santos como mandante\n",
        "print (f'\\nA Média de público em jogos do Santos como mandante foi {santos:.0f} pessoas') #exibe a média calculada formatada"
      ],
      "metadata": {
        "colab": {
          "base_uri": "https://localhost:8080/",
          "height": 330
        },
        "id": "sS1I5Fo-D4sC",
        "outputId": "ba7196fd-bef7-415a-9373-41ad8155d9c7"
      },
      "execution_count": null,
      "outputs": [
        {
          "output_type": "display_data",
          "data": {
            "text/plain": [
              "<Figure size 432x288 with 1 Axes>"
            ],
            "image/png": "[encoded data removed]"
          },
          "metadata": {
            "needs_background": "light"
          }
        },
        {
          "output_type": "stream",
          "name": "stdout",
          "text": [
            "\n",
            "A Média de público em jogos do Santos como mandante foi 10576 pessoas\n"
          ]
        }
      ]
    }
  ]
}