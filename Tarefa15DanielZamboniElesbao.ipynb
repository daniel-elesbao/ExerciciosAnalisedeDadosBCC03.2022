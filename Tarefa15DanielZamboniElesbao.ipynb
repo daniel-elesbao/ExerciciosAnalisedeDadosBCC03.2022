{
  "cells": [
    {
      "cell_type": "markdown",
      "metadata": {
        "id": "view-in-github",
        "colab_type": "text"
      },
      "source": [
        "<a href=\"https://colab.research.google.com/github/daniel-elesbao/BCC21DanielZamboni/blob/main/Tarefa15DanielZamboniElesbao.ipynb\" target=\"_parent\"><img src=\"https://colab.research.google.com/assets/colab-badge.svg\" alt=\"Open In Colab\"/></a>"
      ]
    },
    {
      "cell_type": "code",
      "execution_count": null,
      "metadata": {
        "id": "ZaB4ELWfHyNc"
      },
      "outputs": [],
      "source": [
        "#Daniel Zamboni Elesbão - RA: 11202230222\n",
        "\n",
        "#Tarefa 15 da disciplina Bases Computacionais da ciência"
      ]
    },
    {
      "cell_type": "code",
      "execution_count": 30,
      "metadata": {
        "colab": {
          "base_uri": "https://localhost:8080/"
        },
        "id": "sS1I5Fo-D4sC",
        "outputId": "48771259-8cab-4ecc-a5e6-9cdc7fb40894"
      },
      "outputs": [
        {
          "output_type": "stream",
          "name": "stdout",
          "text": [
            "x (9.1) não está entre a (-2.5) e b (6.3)\n",
            "False\n",
            "x (2.2) está entre a (-10) e b (7)\n",
            "True\n",
            "x (8.1) não está entre a (67.2) e b (87.2)\n",
            "False\n"
          ]
        }
      ],
      "source": [
        "#Cria uma função que diz se um número x está entre dois números a e b\n",
        "def estaNoIntervalo ( a, b , x ): #define a função que recebe os valores, a, b e x para testar\n",
        "  resposta = x > a and x < b #testa se x é maior que a e menor que b (está entre)\n",
        "  if resposta == True : #se verdadeiro\n",
        "    print (f'x ({x}) está entre a ({a}) e b ({b})') #exibe o resultado\n",
        "  else: #senão\n",
        "    print (f'x ({x}) não está entre a ({a}) e b ({b})') #exibe o resultado contrário\n",
        "  print (resposta) #exibe o conteúdo da variável resposta\n",
        "  return resposta #retorna a variável resposta\n",
        "a = [ -2.5 , -10 , 67.2 ] #cria uma array com os valores a serem testados de acordo com o enunciado\n",
        "b = [ 6.3 , 7 , 87.2 ]\n",
        "x = [ 9.1 , 2.2 , 8.1 ] \n",
        "for item in range (0,3): #itera pelos valores da array\n",
        "  estaNoIntervalo ( a[item] , b[item] , x[item] ) #chama a função informando como valores de entrada os números das arrays criadas\n"
      ]
    }
  ],
  "metadata": {
    "colab": {
      "provenance": [],
      "include_colab_link": true
    },
    "kernelspec": {
      "display_name": "Python 3",
      "name": "python3"
    },
    "language_info": {
      "name": "python"
    }
  },
  "nbformat": 4,
  "nbformat_minor": 0
}