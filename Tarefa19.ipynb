{
  "cells": [
    {
      "cell_type": "markdown",
      "metadata": {
        "id": "view-in-github",
        "colab_type": "text"
      },
      "source": [
        "<a href=\"https://colab.research.google.com/github/daniel-elesbao/ExerciciosAnalisedeDadosBCC03.2022/blob/main/Tarefa19.ipynb\" target=\"_parent\"><img src=\"https://colab.research.google.com/assets/colab-badge.svg\" alt=\"Open In Colab\"/></a>"
      ]
    },
    {
      "cell_type": "code",
      "execution_count": null,
      "metadata": {
        "id": "ZaB4ELWfHyNc"
      },
      "outputs": [],
      "source": [
        "#Daniel Zamboni Elesbão - RA: 11202230222\n",
        "\n",
        "#Tarefa 19 da disciplina Bases Computacionais da ciência"
      ]
    },
    {
      "cell_type": "markdown",
      "source": [
        "**1)** Faça um notebook para estimar o valor de $\\pi$ utilizando o método de Monte Carlo."
      ],
      "metadata": {
        "id": "nOzmZwRrwsbp"
      }
    },
    {
      "cell_type": "code",
      "execution_count": null,
      "metadata": {
        "colab": {
          "base_uri": "https://localhost:8080/"
        },
        "id": "sS1I5Fo-D4sC",
        "outputId": "df92180e-6357-4d0f-a40b-17b3ef60f8ae"
      },
      "outputs": [
        {
          "output_type": "stream",
          "name": "stdout",
          "text": [
            "O valor aproximado de pi calculado pelo método de Monte Carlo com 1000000 pontos foi 3.139956\n"
          ]
        }
      ],
      "source": [
        "#Calcula a aproximação de pi pelo método de Monte Carlo\n",
        "import numpy as np #importa a biblioteca numpy como np\n",
        "def monte_carlo ( n ): #define a função monte_carlo que recebe o valor n de pontos a serem gerados\n",
        "  acertos = 0 #define e zera a variável acertos\n",
        "  for pontos in range (1, n): #laço for que gera os pontos aleatoriamente n número de vezes\n",
        "    x = np.random.rand(1) #gera um número aleatório entre 0 e 1 e o atribui a coordenada x\n",
        "    y = np.random.rand(1) #gera um número aleatório entre 0 e 1 e o atribui a coordenada y\n",
        "    if (x**2 + y**2) < 1: #testa se a soma dos quadrados das coordenadas é menor que 1\n",
        "      acertos += 1 #se verdadeiro o ponto está dentro do círculo e é considerado um acerto\n",
        "  print (f'O valor aproximado de pi calculado pelo método de Monte Carlo com {n} pontos foi {4*acertos/n}')\n",
        "  #imprime o valor de pi calculado como 4 vezes a razão do número de pontos dentro do círculo pelo total de pontos\n",
        "monte_carlo( 1000000 ) # chama a função com n pontos a serem calculados"
      ]
    }
  ],
  "metadata": {
    "colab": {
      "provenance": [],
      "include_colab_link": true
    },
    "kernelspec": {
      "display_name": "Python 3",
      "name": "python3"
    },
    "language_info": {
      "name": "python"
    }
  },
  "nbformat": 4,
  "nbformat_minor": 0
}