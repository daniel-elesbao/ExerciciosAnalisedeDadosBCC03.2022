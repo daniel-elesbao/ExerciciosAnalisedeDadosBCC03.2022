{
  "cells": [
    {
      "cell_type": "markdown",
      "metadata": {
        "id": "view-in-github",
        "colab_type": "text"
      },
      "source": [
        "<a href=\"https://colab.research.google.com/github/daniel-elesbao/BCC21DanielZamboni/blob/main/Tarefa20DanielZamboniElesbao.ipynb\" target=\"_parent\"><img src=\"https://colab.research.google.com/assets/colab-badge.svg\" alt=\"Open In Colab\"/></a>"
      ]
    },
    {
      "cell_type": "code",
      "execution_count": null,
      "metadata": {
        "id": "ZaB4ELWfHyNc"
      },
      "outputs": [],
      "source": [
        "#Daniel Zamboni Elesbão - RA: 11202230222\n",
        "\n",
        "#Tarefa 20 da disciplina Bases Computacionais da ciência"
      ]
    },
    {
      "cell_type": "code",
      "source": [
        "#Calcula a população de coelhos pelo método de Lotka-Volterra\n",
        "import numpy as np #importa a biblioteca numpy como np\n",
        "import matplotlib.pyplot as plt #importa mathplotlib como plt\n",
        "def lotka_volterra ( coelhosi, raposasi, dias ): #define a função lotka_volterra que recebe os valores coelhos raposas e dias\n",
        "  alpha = 0.00011 #dados de variação conforme fornecido pelo exercício\n",
        "  beta = 0.00001\n",
        "  delta = 0.00007\n",
        "  gamma = 0.00000009\n",
        "  coelhos = np.zeros(dias*100) #cria as arrays coelhos, raposas e dias com zeros para plotar os gráficos\n",
        "  raposas = np.zeros(dias*100)\n",
        "  data = np.zeros(dias*100)\n",
        "  coelhos[0] = coelhosi #define os valores iniciais de coelhos e raposas de acordo com a entrada da função\n",
        "  raposas[0] = raposasi\n",
        "  plt.figure( ) #executa função que desenha o gráfico\n",
        "  for i in range (1, dias*100): #laço for que processa a simulação pela quantidade de dias com passo 0.01 pedido pelo exercício\n",
        "    coelhos[i] = coelhos[i-1] + (0.01 *((alpha*coelhos[i-1])-(beta*raposas[i-1]*coelhos[i-1])))\n",
        "    raposas[i] = raposas[i-1] + (0.01 *((gamma*raposas[i-1]*coelhos[i-1])-(delta*raposas[i-1]))) #fórmula simplificada da modelagem lotka-volterra\n",
        "    data[i] = i\n",
        "  plt.plot (data/100, coelhos, label='Coelhos') #desenha o gráfico de coelhos por dia\n",
        "  plt.legend () #cria as legendas\n",
        "  plt.show( ) #exibe o gráfico de coelhos\n",
        "  plt.plot (data/100, raposas, label='Raposas') #desenha o gráfico de raposas por dia\n",
        "  plt.legend () #cria as legendas\n",
        "  plt.show( ) #exibe o gráfico de raposas\n",
        "  print (f'Ao final de {i/100:.0f} dias restam {coelhos[i]:.0f} coelhos e {raposas[i]:.0f} raposas.') #imprime o resultado da simulação por escrito\n",
        "lotka_volterra( 1000, 80, 999 ) # chama a função com os valores de coelhos e dias informados pelo exercício\n",
        "#chegamos ao valor de 80 raposas para o número de coelhos não ser inferior a 500"
      ],
      "metadata": {
        "id": "jq-CUtUPxY_H"
      },
      "execution_count": null,
      "outputs": []
    },
    {
      "cell_type": "code",
      "source": [
        "#Calcula o valor aproximado da área entre a curva x**2 e o eixo x, com x entre 0 e 1, utilizando o método de Monte Carlo.\n",
        "import numpy as np #importa a biblioteca numpy como np\n",
        "def monte_carlo ( n ): #define a função monte_carlo que recebe o valor n de pontos a serem gerados\n",
        "  acertos = 0 #define e zera a variável acertos\n",
        "  for pontos in range (1, n): #laço for que gera os pontos aleatoriamente n número de vezes\n",
        "    x = np.random.rand(1) #gera um número aleatório entre 0 e 1 e o atribui a coordenada x\n",
        "    y = np.random.rand(1) #gera um número aleatório entre 0 e 1 e o atribui a coordenada y\n",
        "    if y < x**2: #testa se a coordenada y está abaixo do valor de x ao quadrado para este determinado ponto\n",
        "      acertos += 1 #se verdadeiro o ponto está dentro da área entre a curva e o eixo x e é considerado um acerto\n",
        "  print (f'O valor aproximado da área da curva x ao quadrado e o eixo x calculado pelo método de Monte Carlo com {n} pontos foi {acertos/n}')\n",
        "  #imprime o valor calculado como sendo a razão entre o número de pontos dentro da área e o número de pontos total\n",
        "monte_carlo( 1000000 ) # chama a função com n pontos a serem calculados"
      ],
      "metadata": {
        "colab": {
          "base_uri": "https://localhost:8080/"
        },
        "id": "pMRU0LLRxYJk",
        "outputId": "79ac9141-d7f4-4dff-aaf6-6dac9b56f5b0"
      },
      "execution_count": null,
      "outputs": [
        {
          "output_type": "stream",
          "name": "stdout",
          "text": [
            "O valor aproximado da área da curva x ao quadrado e o eixo x calculado pelo método de Monte Carlo com 1000000 pontos foi 0.33289\n"
          ]
        }
      ]
    }
  ],
  "metadata": {
    "colab": {
      "provenance": [],
      "include_colab_link": true
    },
    "kernelspec": {
      "display_name": "Python 3",
      "name": "python3"
    },
    "language_info": {
      "name": "python"
    }
  },
  "nbformat": 4,
  "nbformat_minor": 0
}